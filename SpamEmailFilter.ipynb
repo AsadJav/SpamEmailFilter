{
  "nbformat": 4,
  "nbformat_minor": 0,
  "metadata": {
    "colab": {
      "name": "Spam email analyzer.ipynb",
      "provenance": []
    },
    "kernelspec": {
      "name": "python3",
      "display_name": "Python 3"
    },
    "language_info": {
      "name": "python"
    }
  },
  "cells": [
    {
      "cell_type": "code",
      "source": [
        "import nltk\n",
        "nltk.download('stopwords')\n",
        "nltk.download('punkt')"
      ],
      "metadata": {
        "colab": {
          "base_uri": "https://localhost:8080/"
        },
        "id": "wO3SQoCpeqVK",
        "outputId": "b387867f-f54d-42b5-949d-4ab95125a110"
      },
      "execution_count": 7,
      "outputs": [
        {
          "output_type": "stream",
          "name": "stdout",
          "text": [
            "[nltk_data] Downloading package stopwords to /root/nltk_data...\n",
            "[nltk_data]   Package stopwords is already up-to-date!\n",
            "[nltk_data] Downloading package punkt to /root/nltk_data...\n",
            "[nltk_data]   Unzipping tokenizers/punkt.zip.\n"
          ]
        },
        {
          "output_type": "execute_result",
          "data": {
            "text/plain": [
              "True"
            ]
          },
          "metadata": {},
          "execution_count": 7
        }
      ]
    },
    {
      "cell_type": "code",
      "execution_count": 10,
      "metadata": {
        "colab": {
          "base_uri": "https://localhost:8080/"
        },
        "id": "XOuyCihIc7HY",
        "outputId": "93623cba-57e2-4b90-86ff-b06038561a00"
      },
      "outputs": [
        {
          "output_type": "stream",
          "name": "stdout",
          "text": [
            "This email is spam...\n"
          ]
        }
      ],
      "source": [
        "#!/usr/bin/python3\n",
        "\n",
        "import os\n",
        "from string import punctuation\n",
        "from nltk.corpus import stopwords\n",
        "from nltk.tokenize import word_tokenize\n",
        "import threading\n",
        "import nltk\n",
        "\n",
        "words = {}\n",
        "sp = 1.0\n",
        "hp = 1.0\n",
        "spamCounter = 0.0\n",
        "hamCounter = 0.0\n",
        "\n",
        "def prepareDictionary():\n",
        "\t\"\"\"\n",
        "\tPrepareDictionary() will get the words from the dataset emails, Calculate the percentage \n",
        "\t\tof every word as a spam or ham.\n",
        "\t\"\"\"\n",
        "\tfiles = os.listdir(\"/content/msgs\")\n",
        "\tfilesCounter = len(files)\n",
        "\tglobal spamCounter\n",
        "\tglobal hamCounter\n",
        "\n",
        "\tfor i in range(filesCounter):\n",
        "\t\tf = open(\"msgs/\" + files[i], \"r\").read() # read all files\n",
        "\t\twordExist = {}\n",
        "\t\tfileWords = readEmail(f)\n",
        "\t\twordsCounter = len(fileWords)\n",
        "\t\tif files[i][:3] != \"spm\":  #checking if words are spam or not\n",
        "\t\t\thamCounter = hamCounter + 1.0 \n",
        "\t\t\tfor j in range(wordsCounter):\n",
        "\t\t\t\tif fileWords[j] in wordExist: # checks if the word exists in the email or not\n",
        "\t\t\t\t\tcontinue;\n",
        "\t\t\t\twordExist[fileWords[j]] = True\n",
        "\t\t\t\tif fileWords[j] in words:\n",
        "\t\t\t\t\twords[fileWords[j]][1] = words[fileWords[j]][1] + 1.0 #line by line checking if the word is ham or spam\n",
        "\t\t\t\telse:\n",
        "\t\t\t\t\twords[fileWords[j]] = [0.0, 1.0]\n",
        "\t\telse:\n",
        "\t\t\tspamCounter = spamCounter + 1.0\n",
        "\t\t\tfor j in range(wordsCounter):\n",
        "\t\t\t\tif fileWords[j] in wordExist:\n",
        "\t\t\t\t\tcontinue;\n",
        "\t\t\t\twordExist[fileWords[j]] = True\n",
        "\t\t\t\tif fileWords[j] in words:\n",
        "\t\t\t\t\twords[fileWords[j]][0] = words[fileWords[j]][0] + 1.0\n",
        "\t\t\t\telse:\n",
        "\t\t\t\t\twords[fileWords[j]] = [1.0, 0.0]\n",
        "\n",
        "\tfor token in words:\n",
        "\t\twords[token][0] = words[token][0] / spamCounter\n",
        "\t\twords[token][1] = words[token][1] / hamCounter\n",
        "\n",
        "\tglobal sp \n",
        "\tglobal hp\n",
        "\tsp = spamCounter / filesCounter\n",
        "\thp = hamCounter / filesCounter\n",
        "\n",
        "def readEmail(email):\n",
        "\t\"\"\"\n",
        "\tReadEmail(email) will filter its input(email), delete stop words, numbers and puctuations.\n",
        "\tReturns list of tokens.\n",
        "\t\"\"\"\n",
        "\temail = ''.join(c for c in email if c not in punctuation)\n",
        "\twords = email.split()\n",
        "\tstop_words = set(stopwords.words('english'))\n",
        "\tword_tokens = word_tokenize(email)\n",
        "\ttexts = [w for w in word_tokens if not w in stop_words]\n",
        "\n",
        "\tEmailWords = []\n",
        "\tfor word in texts:\n",
        "\t\ttry:\n",
        "\t\t\tint(word)\n",
        "\t\texcept:\n",
        "\t\t\tEmailWords.append(word)\n",
        "\n",
        "\treturn EmailWords\n",
        "\n",
        "def binHamSpam(email):\n",
        "\t\"\"\"\n",
        "\tbinHamSpam(email) will calculate the probability of every word in the \n",
        "\t\tinput(email) being a spam and being a ham.\n",
        "\tSend these two probablities to isSpamOrHam() to calculate the final probability of the whole email.\n",
        "\tReturns the whole email probability.\n",
        "\t\"\"\"\n",
        "\temailWords = readEmail(email)\n",
        "\tspamPro = 1.0\n",
        "\thamPro = 1.0\n",
        "\tfor word in words:\n",
        "\t\tif word in emailWords:\n",
        "\t\t\tif words[word][0] != 0:\n",
        "\t\t\t\tspamPro = spamPro * words[word][0]\n",
        "\t\t\tif words[word][1] != 0:\n",
        "\t\t\t\thamPro = hamPro * words[word][1]\n",
        "\t\telse:\n",
        "\t\t\tif words[word][0] != 0:\n",
        "\t\t\t\tspamPro = spamPro * (1.0 - words[word][0])\n",
        "\t\t\tif words[word][1] != 0:\n",
        "\t\t\t\thamPro = hamPro * (1.0 - words[word][1])\n",
        "\n",
        "\treturn [isSpam(spamPro, hamPro), isHam(spamPro, hamPro)]\n",
        "\n",
        "def isSpam(spamPro, hamPro):\n",
        "\t\"\"\"\n",
        "\tReturns the probability of being this email a spam email based on Bayse Algorithm\n",
        "\t\"\"\"\n",
        "\treturn ((spamPro * sp) / ((spamPro * sp) + (hamPro * hp))) # conditional probability \n",
        "\n",
        "def isHam(spamPro, hamPro):\n",
        "\t\"\"\"\n",
        "\tReturns the probability of being this email a ham email based on Bayse Algorithm\n",
        "\t\"\"\"\n",
        "\treturn ((hamPro * hp) / ((hamPro * hp) + (spamPro * sp)))\n",
        "\n",
        "def learn(spamOrHam, newEmail):\n",
        "\t\"\"\"\n",
        "\tSave New Emails as spam or ham.\n",
        "\t\"\"\"\n",
        "\tfiles = os.listdir(\"/content/msgs\")\n",
        "\tfilesCounter = len(files)\n",
        "\tSave = True\n",
        "\tfor i in range(filesCounter):\n",
        "\t\tf = open(\"msgs/\" + files[i], \"r\").read()\n",
        "\t\tif f == newEmail:\n",
        "\t\t\tSave = False\n",
        "\t\t\tbreak\n",
        "\n",
        "\tif Save:\n",
        "\t\tif spamOrHam:\n",
        "\t\t\tf = open(\"msgs/msg\" + str(int(hamCounter + 1)) + \".txt\", \"w\")\n",
        "\t\t\tf.write(newEmail)\n",
        "\t\telse:\n",
        "\t\t\tf = open(\"msgs/spmsg\" + str(int(spamCounter + 1)) + \".txt\", \"w\")\n",
        "\t\t\tf.write(newEmail)\n",
        "\n",
        "def main():\n",
        "\tprepareDictionary()\n",
        "\tnewEmail = open(\"/content/Test.txt\", \"r\").read()\n",
        "\tResult = binHamSpam(newEmail)\n",
        "\tham = Result[0] >= Result[1]\n",
        "\n",
        "\tthreading.Thread(target = learn, args = (ham, newEmail), ).start()\n",
        "\n",
        "\tif ham:\n",
        "\t\tprint(\"This email is ham...\")\n",
        "\telse:\n",
        "\t\tprint(\"This email is spam...\")\n",
        "\n",
        "main()"
      ]
    }
  ]
}